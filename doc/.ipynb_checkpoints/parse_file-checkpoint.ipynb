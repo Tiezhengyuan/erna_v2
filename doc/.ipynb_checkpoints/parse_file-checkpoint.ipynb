{
 "cells": [
  {
   "cell_type": "code",
   "execution_count": 1,
   "id": "68efce6b-332c-4c19-a345-e788e2f7da65",
   "metadata": {},
   "outputs": [],
   "source": [
    "from Bio import SeqIO\n",
    "import pandas as pd\n",
    "import numpy as np"
   ]
  },
  {
   "cell_type": "code",
   "execution_count": 46,
   "id": "b0d9fb26-e2d8-47ca-8ece-27eede83f8c0",
   "metadata": {},
   "outputs": [
    {
     "name": "stdout",
     "output_type": "stream",
     "text": [
      "(2, 99307)\n"
     ]
    }
   ],
   "source": [
    "rc_file = '/home/yuan/bio/results/P00005/T30_merge_read_counts/RC.txt'\n",
    "df= pd.read_csv(rc_file, sep='\\t', index_col=0)\n",
    "print(df.shape)"
   ]
  },
  {
   "cell_type": "code",
   "execution_count": 47,
   "id": "8c991597-2387-4d84-8c36-b3579d959b81",
   "metadata": {},
   "outputs": [
    {
     "name": "stdout",
     "output_type": "stream",
     "text": [
      "99307\n",
      "99307\n"
     ]
    }
   ],
   "source": [
    "print(len(set(df.columns)))\n",
    "print(len(df.columns))"
   ]
  },
  {
   "cell_type": "code",
   "execution_count": 45,
   "id": "90d70fbb-fa88-4111-b76b-679b5deff073",
   "metadata": {},
   "outputs": [
    {
     "data": {
      "text/html": [
       "<div>\n",
       "<style scoped>\n",
       "    .dataframe tbody tr th:only-of-type {\n",
       "        vertical-align: middle;\n",
       "    }\n",
       "\n",
       "    .dataframe tbody tr th {\n",
       "        vertical-align: top;\n",
       "    }\n",
       "\n",
       "    .dataframe thead th {\n",
       "        text-align: right;\n",
       "    }\n",
       "</style>\n",
       "<table border=\"1\" class=\"dataframe\">\n",
       "  <thead>\n",
       "    <tr style=\"text-align: right;\">\n",
       "      <th></th>\n",
       "      <th>hsa-miR-21-5p_hsa-miR-21-5p_MIMAT0000076_Homo_sapiens_miR-21-5p</th>\n",
       "      <th>hsa-mir-3916_hsa-mir-3916_MI0016422_Homo_sapiens_miR-3916_stem-loop</th>\n",
       "      <th>hsa-mir-200a_hsa-mir-200a_MI0000737_Homo_sapiens_miR-200a_stem-loop</th>\n",
       "      <th>hsa-let-7a-1_hsa-let-7a-1_MI0000060_Homo_sapiens_let-7a-1_stem-loop</th>\n",
       "      <th>hsa-mir-659_hsa-mir-659_MI0003683_Homo_sapiens_miR-659_stem-loop</th>\n",
       "      <th>hsa-mir-6886_hsa-mir-6886_MI0022733_Homo_sapiens_miR-6886_stem-loop</th>\n",
       "      <th>hsa-mir-6793_hsa-mir-6793_MI0022638_Homo_sapiens_miR-6793_stem-loop</th>\n",
       "      <th>hsa-miR-3064-3p_hsa-miR-3064-3p_MIMAT0019865_Homo_sapiens_miR-3064-3p</th>\n",
       "      <th>hsa-mir-181b-2_hsa-mir-181b-2_MI0000683_Homo_sapiens_miR-181b-2_stem-loop</th>\n",
       "      <th>hsa-mir-5010_hsa-mir-5010_MI0017878_Homo_sapiens_miR-5010_stem-loop</th>\n",
       "      <th>...</th>\n",
       "      <th>lcl|NW_017852933.1:LOC112268373</th>\n",
       "      <th>lcl|NW_018654710.1:CRYGEP</th>\n",
       "      <th>lcl|NW_021160017.1:LOC124905478</th>\n",
       "      <th>lcl|NW_021160017.1:LOC128966563</th>\n",
       "      <th>lcl|NW_021160017.1:LOC729900</th>\n",
       "      <th>lcl|NW_021160017.1:PDCD6IPP1</th>\n",
       "      <th>lcl|NW_021160024.1:ABCD1P4</th>\n",
       "      <th>lcl|NW_025791766.1:RPSAP28</th>\n",
       "      <th>lcl|NW_025791777.1:LOC643367</th>\n",
       "      <th>lcl|NW_025791798.1:ACTG1P15</th>\n",
       "    </tr>\n",
       "  </thead>\n",
       "  <tbody>\n",
       "    <tr>\n",
       "      <th>C1S</th>\n",
       "      <td>False</td>\n",
       "      <td>False</td>\n",
       "      <td>False</td>\n",
       "      <td>False</td>\n",
       "      <td>False</td>\n",
       "      <td>False</td>\n",
       "      <td>False</td>\n",
       "      <td>False</td>\n",
       "      <td>False</td>\n",
       "      <td>False</td>\n",
       "      <td>...</td>\n",
       "      <td>True</td>\n",
       "      <td>True</td>\n",
       "      <td>True</td>\n",
       "      <td>True</td>\n",
       "      <td>True</td>\n",
       "      <td>True</td>\n",
       "      <td>True</td>\n",
       "      <td>True</td>\n",
       "      <td>True</td>\n",
       "      <td>True</td>\n",
       "    </tr>\n",
       "    <tr>\n",
       "      <th>P25</th>\n",
       "      <td>False</td>\n",
       "      <td>False</td>\n",
       "      <td>False</td>\n",
       "      <td>False</td>\n",
       "      <td>False</td>\n",
       "      <td>False</td>\n",
       "      <td>False</td>\n",
       "      <td>False</td>\n",
       "      <td>False</td>\n",
       "      <td>False</td>\n",
       "      <td>...</td>\n",
       "      <td>False</td>\n",
       "      <td>False</td>\n",
       "      <td>False</td>\n",
       "      <td>False</td>\n",
       "      <td>False</td>\n",
       "      <td>False</td>\n",
       "      <td>False</td>\n",
       "      <td>False</td>\n",
       "      <td>False</td>\n",
       "      <td>False</td>\n",
       "    </tr>\n",
       "  </tbody>\n",
       "</table>\n",
       "<p>2 rows × 99307 columns</p>\n",
       "</div>"
      ],
      "text/plain": [
       "     hsa-miR-21-5p_hsa-miR-21-5p_MIMAT0000076_Homo_sapiens_miR-21-5p  \\\n",
       "C1S                                              False                 \n",
       "P25                                              False                 \n",
       "\n",
       "     hsa-mir-3916_hsa-mir-3916_MI0016422_Homo_sapiens_miR-3916_stem-loop  \\\n",
       "C1S                                              False                     \n",
       "P25                                              False                     \n",
       "\n",
       "     hsa-mir-200a_hsa-mir-200a_MI0000737_Homo_sapiens_miR-200a_stem-loop  \\\n",
       "C1S                                              False                     \n",
       "P25                                              False                     \n",
       "\n",
       "     hsa-let-7a-1_hsa-let-7a-1_MI0000060_Homo_sapiens_let-7a-1_stem-loop  \\\n",
       "C1S                                              False                     \n",
       "P25                                              False                     \n",
       "\n",
       "     hsa-mir-659_hsa-mir-659_MI0003683_Homo_sapiens_miR-659_stem-loop  \\\n",
       "C1S                                              False                  \n",
       "P25                                              False                  \n",
       "\n",
       "     hsa-mir-6886_hsa-mir-6886_MI0022733_Homo_sapiens_miR-6886_stem-loop  \\\n",
       "C1S                                              False                     \n",
       "P25                                              False                     \n",
       "\n",
       "     hsa-mir-6793_hsa-mir-6793_MI0022638_Homo_sapiens_miR-6793_stem-loop  \\\n",
       "C1S                                              False                     \n",
       "P25                                              False                     \n",
       "\n",
       "     hsa-miR-3064-3p_hsa-miR-3064-3p_MIMAT0019865_Homo_sapiens_miR-3064-3p  \\\n",
       "C1S                                              False                       \n",
       "P25                                              False                       \n",
       "\n",
       "     hsa-mir-181b-2_hsa-mir-181b-2_MI0000683_Homo_sapiens_miR-181b-2_stem-loop  \\\n",
       "C1S                                              False                           \n",
       "P25                                              False                           \n",
       "\n",
       "     hsa-mir-5010_hsa-mir-5010_MI0017878_Homo_sapiens_miR-5010_stem-loop  ...  \\\n",
       "C1S                                              False                    ...   \n",
       "P25                                              False                    ...   \n",
       "\n",
       "     lcl|NW_017852933.1:LOC112268373  lcl|NW_018654710.1:CRYGEP  \\\n",
       "C1S                             True                       True   \n",
       "P25                            False                      False   \n",
       "\n",
       "     lcl|NW_021160017.1:LOC124905478  lcl|NW_021160017.1:LOC128966563  \\\n",
       "C1S                             True                             True   \n",
       "P25                            False                            False   \n",
       "\n",
       "     lcl|NW_021160017.1:LOC729900  lcl|NW_021160017.1:PDCD6IPP1  \\\n",
       "C1S                          True                          True   \n",
       "P25                         False                         False   \n",
       "\n",
       "     lcl|NW_021160024.1:ABCD1P4  lcl|NW_025791766.1:RPSAP28  \\\n",
       "C1S                        True                        True   \n",
       "P25                       False                       False   \n",
       "\n",
       "     lcl|NW_025791777.1:LOC643367  lcl|NW_025791798.1:ACTG1P15  \n",
       "C1S                          True                         True  \n",
       "P25                         False                        False  \n",
       "\n",
       "[2 rows x 99307 columns]"
      ]
     },
     "execution_count": 45,
     "metadata": {},
     "output_type": "execute_result"
    }
   ],
   "source": [
    "df.isna()"
   ]
  },
  {
   "cell_type": "code",
   "execution_count": 18,
   "id": "63cc405a-33d8-49c5-a98e-dbf5e2e9489d",
   "metadata": {},
   "outputs": [
    {
     "data": {
      "text/plain": [
       "reference\n",
       "hsa-miR-100-5p_hsa-miR-100-5p_MIMAT0000098_Homo_sapiens_miR-100-5p        195\n",
       "hsa-miR-486-5p_hsa-miR-486-5p_MIMAT0002177_Homo_sapiens_miR-486-5p        132\n",
       "hsa-mir-486-2_hsa-mir-486-2_MI0023622_Homo_sapiens_miR-486-2_stem-loop    286\n",
       "hsa-miR-6529-5p_hsa-miR-6529-5p_MIMAT0048637_Homo_sapiens_miR-6529-5p     168\n",
       "hsa-mir-320a_hsa-mir-320a_MI0000542_Homo_sapiens_miR-320a_stem-loop        19\n",
       "                                                                         ... \n",
       "hsa-let-7a-3_hsa-let-7a-3_MI0000062_Homo_sapiens_let-7a-3_stem-loop         2\n",
       "hsa-mir-19b-2_hsa-mir-19b-2_MI0000075_Homo_sapiens_miR-19b-2_stem-loop      1\n",
       "hsa-mir-218-1_hsa-mir-218-1_MI0000294_Homo_sapiens_miR-218-1_stem-loop      2\n",
       "hsa-mir-431_hsa-mir-431_MI0001721_Homo_sapiens_miR-431_stem-loop            1\n",
       "hsa-mir-200a_hsa-mir-200a_MI0000737_Homo_sapiens_miR-200a_stem-loop         1\n",
       "Name: LW_AI_1, Length: 311, dtype: int64"
      ]
     },
     "execution_count": 18,
     "metadata": {},
     "output_type": "execute_result"
    }
   ],
   "source": [
    "rc_file = '/home/yuan/bio/results/P00002/T05_count_reads/LW_AI_1.RC.txt'\n",
    "df = pd.read_csv(rc_file, index_col=0, header=0, sep='\\t')\n",
    "df.iloc[:,0]"
   ]
  },
  {
   "cell_type": "code",
   "execution_count": null,
   "id": "3907fce0-d549-451c-8e9c-789fe1cf54c8",
   "metadata": {},
   "outputs": [],
   "source": []
  },
  {
   "cell_type": "code",
   "execution_count": null,
   "id": "a72f12cc-7db9-450b-a7aa-fd118988b759",
   "metadata": {},
   "outputs": [],
   "source": []
  },
  {
   "cell_type": "code",
   "execution_count": 48,
   "id": "23104b4a-bc4a-4aca-8c12-ea3455d218cc",
   "metadata": {},
   "outputs": [
    {
     "ename": "SyntaxError",
     "evalue": "unterminated string literal (detected at line 4) (3123472754.py, line 4)",
     "output_type": "error",
     "traceback": [
      "\u001b[0;36m  Cell \u001b[0;32mIn[48], line 4\u001b[0;36m\u001b[0m\n\u001b[0;31m    input['a]=3\u001b[0m\n\u001b[0m          ^\u001b[0m\n\u001b[0;31mSyntaxError\u001b[0m\u001b[0;31m:\u001b[0m unterminated string literal (detected at line 4)\n"
     ]
    }
   ],
   "source": [
    "class A:\n",
    "    @staticmethod\n",
    "    def f(input):\n",
    "        input['a']=3\n",
    "        return 1\n",
    "\n",
    "input = {'b':4}\n",
    "res = A.f(input)\n",
    "print(input)"
   ]
  },
  {
   "cell_type": "code",
   "execution_count": null,
   "id": "881c2e71-3e81-4eb4-96f8-bcb041758d4e",
   "metadata": {},
   "outputs": [],
   "source": []
  },
  {
   "cell_type": "code",
   "execution_count": null,
   "id": "a13fd652-03c3-418e-9377-98e8be17664f",
   "metadata": {},
   "outputs": [],
   "source": []
  },
  {
   "cell_type": "code",
   "execution_count": null,
   "id": "76b297e8-b668-4b00-998a-0ed68ac7f695",
   "metadata": {},
   "outputs": [],
   "source": []
  },
  {
   "cell_type": "code",
   "execution_count": null,
   "id": "b3244b58-7906-4848-ab80-038674226df9",
   "metadata": {},
   "outputs": [],
   "source": [
    "\n"
   ]
  }
 ],
 "metadata": {
  "kernelspec": {
   "display_name": "Python 3 (ipykernel)",
   "language": "python",
   "name": "python3"
  },
  "language_info": {
   "codemirror_mode": {
    "name": "ipython",
    "version": 3
   },
   "file_extension": ".py",
   "mimetype": "text/x-python",
   "name": "python",
   "nbconvert_exporter": "python",
   "pygments_lexer": "ipython3",
   "version": "3.10.12"
  }
 },
 "nbformat": 4,
 "nbformat_minor": 5
}
